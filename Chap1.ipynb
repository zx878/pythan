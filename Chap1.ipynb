{
 "cells": [
  {
   "cell_type": "markdown",
   "metadata": {
    "id": "HmwTQof26VPD"
   },
   "source": [
    "# chap1 運算式 變數 資料型別\n",
    "## 註解"
   ]
  },
  {
   "cell_type": "code",
   "execution_count": null,
   "metadata": {
    "id": "G3L2Zwmd6VPJ"
   },
   "outputs": [],
   "source": [
    "#註解\n",
    "\n"
   ]
  },
  {
   "cell_type": "code",
   "execution_count": null,
   "metadata": {
    "id": "yN4Oiaqh6VPJ",
    "outputId": "14fb4d8a-554d-4c9f-9921-c495c40c5681"
   },
   "outputs": [
    {
     "data": {
      "text/plain": [
       "3"
      ]
     },
     "execution_count": 5,
     "metadata": {
      "tags": []
     },
     "output_type": "execute_result"
    }
   ],
   "source": [
    "'''\n",
    "多行\n",
    "註解\n",
    "'''\n",
    "a=1\n",
    "b=2\n",
    "a+b\n"
   ]
  },
  {
   "cell_type": "code",
   "execution_count": null,
   "metadata": {
    "id": "O6zbF2TY6VPK",
    "outputId": "8574a0ea-74a1-421a-e952-e2eccccba9b3"
   },
   "outputs": [
    {
     "name": "stdout",
     "output_type": "stream",
     "text": [
      "10\n",
      "1\n"
     ]
    }
   ],
   "source": [
    "#變數交換\n",
    "x=1\n",
    "y=10\n",
    "\n",
    "z=x\n",
    "x=y\n",
    "y=z\n",
    "\n",
    "print(x)\n",
    "print(y)"
   ]
  },
  {
   "cell_type": "code",
   "execution_count": null,
   "metadata": {
    "id": "QAM-M52I6VPL",
    "outputId": "28594397-3bbf-4ec3-ded5-70c2eb9f7f03"
   },
   "outputs": [
    {
     "name": "stdout",
     "output_type": "stream",
     "text": [
      "10\n",
      "1\n"
     ]
    }
   ],
   "source": [
    "x=1\n",
    "y=10\n",
    "\n",
    "x=x+y\n",
    "y=x-y\n",
    "x=x-y\n",
    "print(x)\n",
    "print(y)"
   ]
  },
  {
   "cell_type": "code",
   "execution_count": null,
   "metadata": {
    "id": "Kkj1QbEl6VPL",
    "outputId": "76995e15-63be-490b-be56-277b3d9b0f6a"
   },
   "outputs": [
    {
     "name": "stdout",
     "output_type": "stream",
     "text": [
      "10\n",
      "1\n"
     ]
    }
   ],
   "source": [
    "#pythan換法\n",
    "x=1\n",
    "y=10\n",
    "\n",
    "x,y=y,x\n",
    "print(x)\n",
    "print(y)"
   ]
  },
  {
   "cell_type": "code",
   "execution_count": null,
   "metadata": {
    "id": "k2DaBv646VPL",
    "outputId": "633d2df6-8d1f-47ef-d13c-fa76c4773a93"
   },
   "outputs": [
    {
     "name": "stdout",
     "output_type": "stream",
     "text": [
      "1\n",
      "2\n",
      "3\n"
     ]
    }
   ],
   "source": [
    "#變數平行設定\n",
    "x,y,z=1,2,3 #定x y z值\n",
    "print(x)\n",
    "print(y)\n",
    "print(z)\n"
   ]
  },
  {
   "cell_type": "code",
   "execution_count": null,
   "metadata": {
    "id": "LNfS2gR36VPM",
    "outputId": "73237879-2b61-4d7f-8a1b-bc2a337eef0e"
   },
   "outputs": [
    {
     "name": "stdout",
     "output_type": "stream",
     "text": [
      "2\n",
      "4\n",
      "27\n"
     ]
    }
   ],
   "source": [
    "x,y,z=1,2,3\n",
    "x+=1 #x=x+1\n",
    "y*=2 #y=y*2\n",
    "z**=3 #z^3\n",
    "print(x)\n",
    "print(y)\n",
    "print(z)"
   ]
  },
  {
   "cell_type": "code",
   "execution_count": null,
   "metadata": {
    "id": "ktD_hoxP6VPM",
    "outputId": "0e1800e4-5477-4a64-e589-4f32bf70c5b5"
   },
   "outputs": [
    {
     "name": "stdout",
     "output_type": "stream",
     "text": [
      "314.1592653589793\n"
     ]
    }
   ],
   "source": [
    "import math\n",
    "r=10\n",
    "print(r*r*math.pi) #圓面積  \n",
    "#tab可增加選項\n"
   ]
  },
  {
   "cell_type": "markdown",
   "metadata": {
    "id": "LPqUZOqL6VPM"
   },
   "source": [
    "## 資料型別\n",
    "pythan關於動態類型變數 使用前不用宣告資料型態\n"
   ]
  },
  {
   "cell_type": "code",
   "execution_count": null,
   "metadata": {
    "id": "fJbGIXCn6VPM",
    "outputId": "aea5e2db-8131-434a-e0bd-d4679b3a705f"
   },
   "outputs": [
    {
     "name": "stdout",
     "output_type": "stream",
     "text": [
      "<class 'int'>\n",
      "<class 'float'>\n",
      "<class 'str'>\n"
     ]
    }
   ],
   "source": [
    "x=255\n",
    "print(type(x)) #印x資料型別\n",
    "y=255.0\n",
    "print(type(y)) #印y資料型別\n",
    "z='write'\n",
    "print(type(z)) #印z資料型別"
   ]
  },
  {
   "cell_type": "markdown",
   "metadata": {
    "id": "pr4fmVaL6VPN"
   },
   "source": [
    "## 算術符號"
   ]
  },
  {
   "cell_type": "code",
   "execution_count": null,
   "metadata": {
    "id": "ml7jCXL36VPN",
    "outputId": "4296990b-3590-4af9-a803-6ba63eef5a3d"
   },
   "outputs": [
    {
     "name": "stdout",
     "output_type": "stream",
     "text": [
      "3.3333333333333335\n",
      "3\n",
      "1\n"
     ]
    }
   ],
   "source": [
    "x=10\n",
    "y=3\n",
    "print(x/y)#除法\n",
    "print(x//y)#求商\n",
    "print(x%y)#求餘數"
   ]
  },
  {
   "cell_type": "markdown",
   "metadata": {
    "id": "n_BOBNyS6VPN"
   },
   "source": [
    "### 注意數字正確性"
   ]
  },
  {
   "cell_type": "code",
   "execution_count": null,
   "metadata": {
    "id": "GPJ48-j16VPN",
    "outputId": "d3086862-2a03-4577-8ebe-345b0cda9df2"
   },
   "outputs": [
    {
     "name": "stdout",
     "output_type": "stream",
     "text": [
      "0.0015926269999999576\n"
     ]
    }
   ],
   "source": [
    "x=3.141592627\n",
    "print(x-3.14)#比正確值略小"
   ]
  },
  {
   "cell_type": "markdown",
   "metadata": {
    "id": "ICsRlIFI6VPN"
   },
   "source": [
    "## 關係比較\n"
   ]
  },
  {
   "cell_type": "code",
   "execution_count": null,
   "metadata": {
    "id": "dJ-FAo_V6VPO",
    "outputId": "cb55841d-af57-4130-8889-458eecc691e7"
   },
   "outputs": [
    {
     "name": "stdout",
     "output_type": "stream",
     "text": [
      "True\n",
      "False\n",
      "20\n"
     ]
    }
   ],
   "source": [
    "print(10==10)\n",
    "x,y=10,20\n",
    "print(x==y)#關係比較\n",
    "x=y        #指派值\n",
    "print(x)"
   ]
  },
  {
   "cell_type": "markdown",
   "metadata": {
    "id": "qI2NfixT6VPO"
   },
   "source": [
    "## 關係運算 以閏年為例"
   ]
  },
  {
   "cell_type": "code",
   "execution_count": null,
   "metadata": {
    "id": "-d1Q9WZH6VPO",
    "outputId": "a5fe022e-b5c5-4d73-f8e5-cc65344f7aff"
   },
   "outputs": [
    {
     "name": "stdout",
     "output_type": "stream",
     "text": [
      "False\n"
     ]
    }
   ],
   "source": [
    "y=2010 \n",
    "print(y%4==0 and y%100!=0 or y%400==0) #確認哪年潤"
   ]
  },
  {
   "cell_type": "markdown",
   "metadata": {
    "id": "7Yp6Cdis6VPO"
   },
   "source": [
    "## 型態轉換"
   ]
  },
  {
   "cell_type": "code",
   "execution_count": null,
   "metadata": {
    "id": "tGZaVlgo6VPO",
    "outputId": "95313fc7-d66d-4f2c-8ecd-5d6fd8433a19"
   },
   "outputs": [
    {
     "name": "stdout",
     "output_type": "stream",
     "text": [
      "wrintwrintwrintwrintwrintwrintwrintwrintwrintwrint\n"
     ]
    }
   ],
   "source": [
    "#小心型態之關係會造成不同結果\n",
    "x='wrint' \n",
    "print(10*x)\n"
   ]
  },
  {
   "cell_type": "code",
   "execution_count": null,
   "metadata": {
    "id": "4PzgPpCJ6VPP",
    "outputId": "d6a22c16-f716-4642-ec75-e9235754a6b0"
   },
   "outputs": [
    {
     "name": "stdout",
     "output_type": "stream",
     "text": [
      "<class 'int'>\n",
      "<class 'float'>\n",
      "123\n",
      "123\n",
      "123\n"
     ]
    }
   ],
   "source": [
    "x=12\n",
    "print(type(x))\n",
    "y=float(x)+0.5 #強制型態轉換\n",
    "print(type(y))\n",
    "print(int(\"123\"))\n",
    "print(int(123.33))\n",
    "print(int(float(\"123.33\")))#字串小數點無法直接轉換"
   ]
  },
  {
   "cell_type": "code",
   "execution_count": null,
   "metadata": {
    "id": "VH3vY01m6VPP",
    "outputId": "d57b156c-a4dc-4cda-d592-cb5088e3d3ce"
   },
   "outputs": [
    {
     "name": "stdout",
     "output_type": "stream",
     "text": [
      "The value of x is32.5and y is 40000\n",
      "The value of x is 32.5 and y is 40000\n",
      "The value of x is 32.5 and y is 40000\n"
     ]
    }
   ],
   "source": [
    "#字串型別轉換\n",
    "x=10*3.25 #=32.5\n",
    "y=200*200 #=40000 \n",
    "s=\"The value of x is\"+str(x)+\"and y is \"+str(y) \n",
    "print(s)\n",
    "print(\"The value of x is\",x,\"and y is\",y) \n",
    "print(\"The value of x is {} and y is {}\".format(x,y)) "
   ]
  },
  {
   "cell_type": "code",
   "execution_count": null,
   "metadata": {
    "id": "tskYi6ox6VPP",
    "outputId": "893363ab-e4ea-4c21-cd88-7bbc4cce5643"
   },
   "outputs": [
    {
     "name": "stdout",
     "output_type": "stream",
     "text": [
      "3.141592653589793\n",
      "8.0\n",
      "26.423892221536985\n",
      "5.0\n"
     ]
    }
   ],
   "source": [
    "## 非內建模組\n",
    "import math\n",
    "print(math.pi)#圓周率\n",
    "print(math.pow(2,3))#次方\n",
    "print(8.3*10.58*math.sin(37.0/180*math.pi)/2)\n",
    "print(math.sqrt(25))#開根號"
   ]
  },
  {
   "cell_type": "markdown",
   "metadata": {
    "id": "onwuGObP6VPP"
   },
   "source": [
    "## 範例 算圓面積\n"
   ]
  },
  {
   "cell_type": "code",
   "execution_count": null,
   "metadata": {
    "id": "vaSX-BIJ6VPP",
    "outputId": "cef45025-ae83-44f3-82c0-c9240437e7dd"
   },
   "outputs": [
    {
     "name": "stdout",
     "output_type": "stream",
     "text": [
      "請輸入圓半徑:10\n",
      "圓面積為: 314.1592653589793\n"
     ]
    }
   ],
   "source": [
    "import math\n",
    "r=input(\"請輸入圓半徑:\")\n",
    "area=float(r)*float(r)*math.pi #float轉小數\n",
    "print(\"圓面積為:\",area)"
   ]
  },
  {
   "cell_type": "markdown",
   "metadata": {
    "id": "MNiEVcK-6VPQ"
   },
   "source": [
    "## 算長方形面積"
   ]
  },
  {
   "cell_type": "code",
   "execution_count": null,
   "metadata": {
    "id": "LjFsUWBn6VPQ",
    "outputId": "1f6811a8-bfeb-4d75-b152-ed1bced20d6e"
   },
   "outputs": [
    {
     "name": "stdout",
     "output_type": "stream",
     "text": [
      "請輸入長:50\n",
      "請輸入寬:50\n",
      "長方形面積為: 2500.0\n"
     ]
    }
   ],
   "source": [
    "import math\n",
    "x=input(\"請輸入長:\")\n",
    "y=input(\"請輸入寬:\")\n",
    "area=float(x)*float(y)\n",
    "print(\"長方形面積為:\",area) \n"
   ]
  },
  {
   "cell_type": "code",
   "execution_count": null,
   "metadata": {
    "id": "OqJIQLii6VPQ"
   },
   "outputs": [],
   "source": []
  }
 ],
 "metadata": {
  "colab": {
   "name": "Chap1 .ipynb",
   "provenance": []
  },
  "kernelspec": {
   "display_name": "Python 3",
   "language": "python",
   "name": "python3"
  },
  "language_info": {
   "codemirror_mode": {
    "name": "ipython",
    "version": 3
   },
   "file_extension": ".py",
   "mimetype": "text/x-python",
   "name": "python",
   "nbconvert_exporter": "python",
   "pygments_lexer": "ipython3",
   "version": "3.8.5"
  }
 },
 "nbformat": 4,
 "nbformat_minor": 1
}
